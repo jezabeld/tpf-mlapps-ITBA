{
 "cells": [
  {
   "cell_type": "markdown",
   "id": "c693bab0-eb22-481a-938b-20721881a719",
   "metadata": {},
   "source": [
    "# Outlier Detection"
   ]
  },
  {
   "cell_type": "code",
   "execution_count": 1,
   "id": "823fb740-210c-4243-9cb4-9d4b4e6ae997",
   "metadata": {},
   "outputs": [],
   "source": [
    "import pandas as pd\n",
    "from sklearn.preprocessing import StandardScaler\n",
    "import typing"
   ]
  },
  {
   "cell_type": "code",
   "execution_count": 2,
   "id": "e2e5ae71-1102-4a3e-ad84-95caf8fecdd1",
   "metadata": {},
   "outputs": [],
   "source": [
    "anio = 2009"
   ]
  },
  {
   "cell_type": "code",
   "execution_count": 3,
   "id": "54af934b-b300-41a0-afe2-7e380bf63651",
   "metadata": {},
   "outputs": [],
   "source": [
    "data = pd.read_csv(f'/home/jovyan/work/dags/data/raw/{anio}_sample.csv')"
   ]
  },
  {
   "cell_type": "code",
   "execution_count": 4,
   "id": "9f90d3ff-3c61-4920-9278-02aaf7405295",
   "metadata": {},
   "outputs": [],
   "source": [
    "# This wrapper will apply any sklearn transform you pass into it to a group.\n",
    "class SklearnWrapper:\n",
    "    def __init__(self, transformation: typing.Callable):\n",
    "        self.transformation = transformation\n",
    "\n",
    "    def __call__(self, df):\n",
    "        transformed = self.transformation.fit_transform(df.values)\n",
    "        return pd.DataFrame(transformed, columns=df.columns, index=df.index)"
   ]
  },
  {
   "cell_type": "code",
   "execution_count": 5,
   "id": "a2469e6e-b122-4514-8248-f472e0ccc04a",
   "metadata": {},
   "outputs": [],
   "source": [
    "grouped = data.groupby(['ORIGIN','FL_DATE']).agg({'OP_CARRIER_FL_NUM': 'count', 'DEP_DELAY': 'mean'})\n",
    "\n",
    "df_rescaled = (\n",
    "    grouped.groupby(\"ORIGIN\")\n",
    "    .apply(SklearnWrapper(StandardScaler()))\n",
    "    .rename(columns = {'DEP_DELAY': 'DEL_SCALED'})\n",
    "    .drop(columns=['OP_CARRIER_FL_NUM'])\n",
    ")\n",
    "df_rescaled = (\n",
    "    grouped.join(df_rescaled)\n",
    "    .assign(OUTLIER=(abs(df_rescaled.DEL_SCALED)>=3).astype(int))\n",
    "    .rename(columns= {'OP_CARRIER_FL_NUM': 'NUM_FLIGHTS'})\n",
    ")"
   ]
  },
  {
   "cell_type": "code",
   "execution_count": 6,
   "id": "e5779fe4-07e3-47ad-9b3c-b6ac4b3e9486",
   "metadata": {},
   "outputs": [
    {
     "data": {
      "text/html": [
       "<div>\n",
       "<style scoped>\n",
       "    .dataframe tbody tr th:only-of-type {\n",
       "        vertical-align: middle;\n",
       "    }\n",
       "\n",
       "    .dataframe tbody tr th {\n",
       "        vertical-align: top;\n",
       "    }\n",
       "\n",
       "    .dataframe thead th {\n",
       "        text-align: right;\n",
       "    }\n",
       "</style>\n",
       "<table border=\"1\" class=\"dataframe\">\n",
       "  <thead>\n",
       "    <tr style=\"text-align: right;\">\n",
       "      <th></th>\n",
       "      <th></th>\n",
       "      <th>NUM_FLIGHTS</th>\n",
       "      <th>DEP_DELAY</th>\n",
       "      <th>DEL_SCALED</th>\n",
       "      <th>OUTLIER</th>\n",
       "    </tr>\n",
       "    <tr>\n",
       "      <th>ORIGIN</th>\n",
       "      <th>FL_DATE</th>\n",
       "      <th></th>\n",
       "      <th></th>\n",
       "      <th></th>\n",
       "      <th></th>\n",
       "    </tr>\n",
       "  </thead>\n",
       "  <tbody>\n",
       "    <tr>\n",
       "      <th rowspan=\"5\" valign=\"top\">ABE</th>\n",
       "      <th>2009-01-01</th>\n",
       "      <td>12</td>\n",
       "      <td>-2.916667</td>\n",
       "      <td>-0.816856</td>\n",
       "      <td>0</td>\n",
       "    </tr>\n",
       "    <tr>\n",
       "      <th>2009-01-02</th>\n",
       "      <td>14</td>\n",
       "      <td>2.357143</td>\n",
       "      <td>-0.385754</td>\n",
       "      <td>0</td>\n",
       "    </tr>\n",
       "    <tr>\n",
       "      <th>2009-01-03</th>\n",
       "      <td>9</td>\n",
       "      <td>25.500000</td>\n",
       "      <td>1.506036</td>\n",
       "      <td>0</td>\n",
       "    </tr>\n",
       "    <tr>\n",
       "      <th>2009-01-04</th>\n",
       "      <td>11</td>\n",
       "      <td>9.636364</td>\n",
       "      <td>0.209279</td>\n",
       "      <td>0</td>\n",
       "    </tr>\n",
       "    <tr>\n",
       "      <th>2009-01-05</th>\n",
       "      <td>13</td>\n",
       "      <td>4.153846</td>\n",
       "      <td>-0.238884</td>\n",
       "      <td>0</td>\n",
       "    </tr>\n",
       "  </tbody>\n",
       "</table>\n",
       "</div>"
      ],
      "text/plain": [
       "                   NUM_FLIGHTS  DEP_DELAY  DEL_SCALED  OUTLIER\n",
       "ORIGIN FL_DATE                                                \n",
       "ABE    2009-01-01           12  -2.916667   -0.816856        0\n",
       "       2009-01-02           14   2.357143   -0.385754        0\n",
       "       2009-01-03            9  25.500000    1.506036        0\n",
       "       2009-01-04           11   9.636364    0.209279        0\n",
       "       2009-01-05           13   4.153846   -0.238884        0"
      ]
     },
     "execution_count": 6,
     "metadata": {},
     "output_type": "execute_result"
    }
   ],
   "source": [
    "df_rescaled.head()"
   ]
  },
  {
   "cell_type": "code",
   "execution_count": 7,
   "id": "bdfcd165-4d13-440d-8d48-0601b7dbf022",
   "metadata": {},
   "outputs": [
    {
     "data": {
      "text/plain": [
       "220"
      ]
     },
     "execution_count": 7,
     "metadata": {},
     "output_type": "execute_result"
    }
   ],
   "source": [
    "df_rescaled.OUTLIER.sum()"
   ]
  },
  {
   "cell_type": "markdown",
   "id": "143dc9a4-b847-419f-83af-894ae88bdf9f",
   "metadata": {},
   "source": [
    "# Graficos"
   ]
  },
  {
   "cell_type": "code",
   "execution_count": 7,
   "id": "81c46762-e80f-487e-90f4-5821480c31e8",
   "metadata": {},
   "outputs": [],
   "source": [
    "airport = 'ABI'"
   ]
  },
  {
   "cell_type": "code",
   "execution_count": 13,
   "id": "5dd898e0-2657-41b9-9a8d-22eb901d659d",
   "metadata": {},
   "outputs": [],
   "source": [
    "df_res = df_rescaled.reset_index()"
   ]
  },
  {
   "cell_type": "code",
   "execution_count": 9,
   "id": "dce38fb1-0adf-4106-a94c-689705c3583d",
   "metadata": {},
   "outputs": [
    {
     "data": {
      "text/html": [
       "<div>\n",
       "<style scoped>\n",
       "    .dataframe tbody tr th:only-of-type {\n",
       "        vertical-align: middle;\n",
       "    }\n",
       "\n",
       "    .dataframe tbody tr th {\n",
       "        vertical-align: top;\n",
       "    }\n",
       "\n",
       "    .dataframe thead th {\n",
       "        text-align: right;\n",
       "    }\n",
       "</style>\n",
       "<table border=\"1\" class=\"dataframe\">\n",
       "  <thead>\n",
       "    <tr style=\"text-align: right;\">\n",
       "      <th></th>\n",
       "      <th></th>\n",
       "      <th>NUM_FLIGHTS</th>\n",
       "      <th>DEP_DELAY</th>\n",
       "      <th>DEL_SCALED</th>\n",
       "      <th>OUTLIER</th>\n",
       "    </tr>\n",
       "    <tr>\n",
       "      <th>ORIGIN</th>\n",
       "      <th>FL_DATE</th>\n",
       "      <th></th>\n",
       "      <th></th>\n",
       "      <th></th>\n",
       "      <th></th>\n",
       "    </tr>\n",
       "  </thead>\n",
       "  <tbody>\n",
       "    <tr>\n",
       "      <th>ABI</th>\n",
       "      <th>2009-01-28</th>\n",
       "      <td>7</td>\n",
       "      <td>190.200000</td>\n",
       "      <td>3.735343</td>\n",
       "      <td>1</td>\n",
       "    </tr>\n",
       "    <tr>\n",
       "      <th>ABQ</th>\n",
       "      <th>2009-01-05</th>\n",
       "      <td>107</td>\n",
       "      <td>24.570093</td>\n",
       "      <td>3.212889</td>\n",
       "      <td>1</td>\n",
       "    </tr>\n",
       "    <tr>\n",
       "      <th>ABY</th>\n",
       "      <th>2009-01-20</th>\n",
       "      <td>3</td>\n",
       "      <td>28.666667</td>\n",
       "      <td>3.380956</td>\n",
       "      <td>1</td>\n",
       "    </tr>\n",
       "    <tr>\n",
       "      <th>ACT</th>\n",
       "      <th>2009-01-28</th>\n",
       "      <td>4</td>\n",
       "      <td>156.750000</td>\n",
       "      <td>4.560705</td>\n",
       "      <td>1</td>\n",
       "    </tr>\n",
       "    <tr>\n",
       "      <th>ADQ</th>\n",
       "      <th>2009-01-16</th>\n",
       "      <td>2</td>\n",
       "      <td>112.000000</td>\n",
       "      <td>4.465529</td>\n",
       "      <td>1</td>\n",
       "    </tr>\n",
       "  </tbody>\n",
       "</table>\n",
       "</div>"
      ],
      "text/plain": [
       "                   NUM_FLIGHTS   DEP_DELAY  DEL_SCALED  OUTLIER\n",
       "ORIGIN FL_DATE                                                 \n",
       "ABI    2009-01-28            7  190.200000    3.735343        1\n",
       "ABQ    2009-01-05          107   24.570093    3.212889        1\n",
       "ABY    2009-01-20            3   28.666667    3.380956        1\n",
       "ACT    2009-01-28            4  156.750000    4.560705        1\n",
       "ADQ    2009-01-16            2  112.000000    4.465529        1"
      ]
     },
     "execution_count": 9,
     "metadata": {},
     "output_type": "execute_result"
    }
   ],
   "source": [
    "df_rescaled[df_rescaled.OUTLIER ==1].head()"
   ]
  },
  {
   "cell_type": "code",
   "execution_count": 10,
   "id": "7fd34398-a3e2-41f6-81a7-e7b32903a230",
   "metadata": {},
   "outputs": [
    {
     "data": {
      "text/html": [
       "<div>\n",
       "<style scoped>\n",
       "    .dataframe tbody tr th:only-of-type {\n",
       "        vertical-align: middle;\n",
       "    }\n",
       "\n",
       "    .dataframe tbody tr th {\n",
       "        vertical-align: top;\n",
       "    }\n",
       "\n",
       "    .dataframe thead th {\n",
       "        text-align: right;\n",
       "    }\n",
       "</style>\n",
       "<table border=\"1\" class=\"dataframe\">\n",
       "  <thead>\n",
       "    <tr style=\"text-align: right;\">\n",
       "      <th></th>\n",
       "      <th>ORIGIN</th>\n",
       "      <th>FL_DATE</th>\n",
       "      <th>NUM_FLIGHTS</th>\n",
       "      <th>DEP_DELAY</th>\n",
       "      <th>DEL_SCALED</th>\n",
       "      <th>OUTLIER</th>\n",
       "    </tr>\n",
       "  </thead>\n",
       "  <tbody>\n",
       "    <tr>\n",
       "      <th>0</th>\n",
       "      <td>ABE</td>\n",
       "      <td>2009-01-01</td>\n",
       "      <td>12</td>\n",
       "      <td>-2.916667</td>\n",
       "      <td>-0.816856</td>\n",
       "      <td>0</td>\n",
       "    </tr>\n",
       "    <tr>\n",
       "      <th>1</th>\n",
       "      <td>ABE</td>\n",
       "      <td>2009-01-02</td>\n",
       "      <td>14</td>\n",
       "      <td>2.357143</td>\n",
       "      <td>-0.385754</td>\n",
       "      <td>0</td>\n",
       "    </tr>\n",
       "    <tr>\n",
       "      <th>2</th>\n",
       "      <td>ABE</td>\n",
       "      <td>2009-01-03</td>\n",
       "      <td>9</td>\n",
       "      <td>25.500000</td>\n",
       "      <td>1.506036</td>\n",
       "      <td>0</td>\n",
       "    </tr>\n",
       "    <tr>\n",
       "      <th>3</th>\n",
       "      <td>ABE</td>\n",
       "      <td>2009-01-04</td>\n",
       "      <td>11</td>\n",
       "      <td>9.636364</td>\n",
       "      <td>0.209279</td>\n",
       "      <td>0</td>\n",
       "    </tr>\n",
       "    <tr>\n",
       "      <th>4</th>\n",
       "      <td>ABE</td>\n",
       "      <td>2009-01-05</td>\n",
       "      <td>13</td>\n",
       "      <td>4.153846</td>\n",
       "      <td>-0.238884</td>\n",
       "      <td>0</td>\n",
       "    </tr>\n",
       "  </tbody>\n",
       "</table>\n",
       "</div>"
      ],
      "text/plain": [
       "  ORIGIN     FL_DATE  NUM_FLIGHTS  DEP_DELAY  DEL_SCALED  OUTLIER\n",
       "0    ABE  2009-01-01           12  -2.916667   -0.816856        0\n",
       "1    ABE  2009-01-02           14   2.357143   -0.385754        0\n",
       "2    ABE  2009-01-03            9  25.500000    1.506036        0\n",
       "3    ABE  2009-01-04           11   9.636364    0.209279        0\n",
       "4    ABE  2009-01-05           13   4.153846   -0.238884        0"
      ]
     },
     "execution_count": 14,
     "metadata": {},
     "output_type": "execute_result"
    }
   ],
   "source": [
    "df_res.head()"
   ]
  },
  {
   "cell_type": "code",
   "execution_count": 15,
   "id": "9944f89e-a2b5-4bc6-ab38-b2e6f3a814dd",
   "metadata": {},
   "outputs": [
    {
     "data": {
      "text/plain": [
       "array(['ABE', 'ABI', 'ABQ', 'ABY', 'ACT', 'ACV', 'ADK', 'ADQ', 'AEX',\n",
       "       'AGS', 'ALB', 'ALO', 'AMA', 'ANC', 'ASE', 'ATL', 'ATW', 'AUS',\n",
       "       'AVL', 'AVP', 'AZO', 'BDL', 'BET', 'BFL', 'BGM', 'BGR', 'BHM',\n",
       "       'BIL', 'BIS', 'BMI', 'BNA', 'BOI', 'BOS', 'BQK', 'BQN', 'BRO',\n",
       "       'BRW', 'BTM', 'BTR', 'BTV', 'BUF', 'BUR', 'BWI', 'BZN', 'CAE',\n",
       "       'CAK', 'CDC', 'CDV', 'CEC', 'CHA', 'CHO', 'CHS', 'CIC', 'CID',\n",
       "       'CLD', 'CLE', 'CLL', 'CLT', 'CMH', 'CMI', 'CMX', 'COD', 'COS',\n",
       "       'CPR', 'CRP', 'CRW', 'CSG', 'CVG', 'CWA', 'DAB', 'DAL', 'DAY',\n",
       "       'DBQ', 'DCA', 'DEN', 'DFW', 'DHN', 'DLH', 'DRO', 'DSM', 'DTW',\n",
       "       'EGE', 'EKO', 'ELM', 'ELP', 'ERI', 'EUG', 'EVV', 'EWN', 'EWR',\n",
       "       'EYW', 'FAI', 'FAR', 'FAT', 'FAY', 'FCA', 'FLG', 'FLL', 'FLO',\n",
       "       'FNT', 'FSD', 'FSM', 'FWA', 'GCC', 'GEG', 'GFK', 'GGG', 'GJT',\n",
       "       'GNV', 'GPT', 'GRB', 'GRK', 'GRR', 'GSO', 'GSP', 'GTF', 'GTR',\n",
       "       'GUC', 'HDN', 'HLN', 'HNL', 'HOU', 'HPN', 'HRL', 'HSV', 'HTS',\n",
       "       'IAD', 'IAH', 'ICT', 'IDA', 'ILM', 'IND', 'IPL', 'ISP', 'ITH',\n",
       "       'ITO', 'IYK', 'JAC', 'JAN', 'JAX', 'JFK', 'JNU', 'KOA', 'KTN',\n",
       "       'LAN', 'LAS', 'LAW', 'LAX', 'LBB', 'LCH', 'LEX', 'LFT', 'LGA',\n",
       "       'LGB', 'LIH', 'LIT', 'LMT', 'LNK', 'LRD', 'LSE', 'LWS', 'LYH',\n",
       "       'MAF', 'MBS', 'MCI', 'MCO', 'MDT', 'MDW', 'MEI', 'MEM', 'MFE',\n",
       "       'MFR', 'MGM', 'MHT', 'MIA', 'MKE', 'MLB', 'MLI', 'MLU', 'MOB',\n",
       "       'MOD', 'MOT', 'MQT', 'MRY', 'MSN', 'MSO', 'MSP', 'MSY', 'MTJ',\n",
       "       'MYR', 'OAJ', 'OAK', 'OGG', 'OKC', 'OMA', 'OME', 'ONT', 'ORD',\n",
       "       'ORF', 'OTH', 'OTZ', 'OXR', 'PBI', 'PDX', 'PFN', 'PHF', 'PHL',\n",
       "       'PHX', 'PIA', 'PIH', 'PIT', 'PNS', 'PSC', 'PSE', 'PSG', 'PSP',\n",
       "       'PVD', 'PWM', 'RAP', 'RDD', 'RDM', 'RDU', 'RHI', 'RIC', 'RKS',\n",
       "       'RNO', 'ROA', 'ROC', 'ROW', 'RST', 'RSW', 'SAN', 'SAT', 'SAV',\n",
       "       'SBA', 'SBN', 'SBP', 'SCC', 'SCE', 'SDF', 'SEA', 'SFO', 'SGF',\n",
       "       'SGU', 'SHV', 'SIT', 'SJC', 'SJU', 'SLC', 'SMF', 'SMX', 'SNA',\n",
       "       'SPI', 'SRQ', 'STL', 'STT', 'STX', 'SUN', 'SUX', 'SWF', 'SYR',\n",
       "       'TEX', 'TLH', 'TOL', 'TPA', 'TRI', 'TUL', 'TUS', 'TVC', 'TWF',\n",
       "       'TXK', 'TYR', 'TYS', 'VLD', 'VPS', 'WRG', 'XNA', 'YAK', 'YUM'],\n",
       "      dtype=object)"
      ]
     },
     "execution_count": 15,
     "metadata": {},
     "output_type": "execute_result"
    }
   ],
   "source": [
    "df_res['ORIGIN'].unique()"
   ]
  },
  {
   "cell_type": "code",
   "execution_count": 100,
   "id": "2224567a-9e3b-4120-9abe-f1d90c03ef12",
   "metadata": {
    "tags": []
   },
   "outputs": [
    {
     "data": {
      "image/png": "[encoded data removed]",
      "text/plain": [
       "<Figure size 1296x648 with 2 Axes>"
      ]
     },
     "metadata": {
      "needs_background": "light"
     },
     "output_type": "display_data"
    }
   ],
   "source": [
    "import matplotlib.pyplot as plt\n",
    "from matplotlib.lines import Line2D\n",
    "\n",
    "fig, ax = plt.subplots(figsize=(18,9))\n",
    "ax2 = ax.twinx()\n",
    "\n",
    "ax.yaxis.tick_left()\n",
    "ax2.yaxis.tick_right()\n",
    "\n",
    "ax.bar(df_rescaled[df_rescaled.index.isin([airport], level=0)].reset_index().FL_DATE, \n",
    "        df_rescaled[df_rescaled.index.isin([airport], level=0)].NUM_FLIGHTS, \n",
    "        color= list(map(lambda x: 'blue' if x <= 0 else 'red', df_rescaled[df_rescaled.index.isin([airport], level=0)].OUTLIER)) )\n",
    "\n",
    "ax.set_ylabel('Number of flies')\n",
    "\n",
    "ax2.plot(ax.get_xticks(), \n",
    "        df_rescaled[df_rescaled.index.isin([airport], level=0)].DEP_DELAY, color='black')\n",
    "ax2.set_ylabel('Avg Delay Time')\n",
    "\n",
    "plt.title(f'Number of flights by day - {airport} Airport - Year {anio}')\n",
    "\n",
    "ax.set_ylim(top= (df_rescaled[df_rescaled.index.isin([airport], level=0)].NUM_FLIGHTS.max() + 2))\n",
    "custom_lines = [Line2D([0], [0], color='blue', lw=4),\n",
    "                Line2D([0], [0], color='red', lw=4)]\n",
    "ax.legend(custom_lines, ['Normal Delays', 'Unusual Delays'])\n",
    "\n",
    "\n",
    "plt.setp( ax.xaxis.get_majorticklabels(), rotation=45)\n",
    "\n",
    "fig.savefig(f'/home/jovyan/work/dags/data/plt/{anio}-{airport}.jpg', transparent=False, dpi=80, bbox_inches=\"tight\")\n",
    "plt.show()"
   ]
  },
  {
   "cell_type": "code",
   "execution_count": 17,
   "id": "1a3d1b67-4ce7-4178-a709-7618c42de8a6",
   "metadata": {},
   "outputs": [
    {
     "data": {
      "image/png": "[encoded data removed]",
      "text/plain": [
       "<Figure size 1296x648 with 2 Axes>"
      ]
     },
     "metadata": {
      "needs_background": "light"
     },
     "output_type": "display_data"
    }
   ],
   "source": [
    "df = df_res[df_res['ORIGIN']== airport]\n",
    "\n",
    "import matplotlib.pyplot as plt\n",
    "from matplotlib.lines import Line2D\n",
    "\n",
    "fig, ax = plt.subplots(figsize=(18,9))\n",
    "ax2 = ax.twinx()\n",
    "\n",
    "ax.yaxis.tick_left()\n",
    "ax2.yaxis.tick_right()\n",
    "\n",
    "ax.bar(df.FL_DATE, df.NUM_FLIGHTS, \n",
    "        color= list(map(lambda x: 'blue' if x <= 0 else 'red', df.OUTLIER)) )\n",
    "\n",
    "ax.set_ylabel('Number of flies')\n",
    "\n",
    "ax2.plot(ax.get_xticks(), df.DEP_DELAY, color='black')\n",
    "ax2.set_ylabel('Avg Delay Time')\n",
    "\n",
    "plt.title(f'Number of flights by day - {airport} Airport - Year {anio}')\n",
    "\n",
    "ax.set_ylim(top= (df.NUM_FLIGHTS.max() + 2))\n",
    "custom_lines = [Line2D([0], [0], color='blue', lw=4), Line2D([0], [0], color='red', lw=4)]\n",
    "ax.legend(custom_lines, ['Normal Delays', 'Unusual Delays'])\n",
    "\n",
    "\n",
    "plt.setp( ax.xaxis.get_majorticklabels(), rotation=45)\n",
    "\n",
    "fig.savefig(f'/home/jovyan/work/dags/data/plt/{anio}-{airport}.jpg', transparent=False, dpi=80, bbox_inches=\"tight\")\n",
    "plt.show()"
   ]
  },
  {
   "cell_type": "markdown",
   "id": "0269c02b-051e-4860-b19a-2ad599b24197",
   "metadata": {},
   "source": [
    "# Save data"
   ]
  },
  {
   "cell_type": "code",
   "execution_count": 10,
   "id": "a0c20505-6aa4-4e3c-8282-7fb0c7eb1823",
   "metadata": {},
   "outputs": [],
   "source": [
    "class DepDelay:\n",
    "    \"\"\"Departure delay data model.\"\"\"\n",
    "    def __init__(self, origin, date, num_flights, dep_delay, del_scaled, outlier):\n",
    "        self.origin = origin\n",
    "        self.date = date\n",
    "        self.num_flights = num_flights\n",
    "        self.dep_delay = dep_delay\n",
    "        self.del_scaled = del_scaled\n",
    "        self.outlier = outlier\n",
    "\n",
    "    def __repr__(self):\n",
    "        return f\"<DepDelay(origin='{self.origin}', date='{self.date}', ...)>\"\n",
    "\n",
    "    def __str__(self):\n",
    "        return f\"{self.origin} {self.date}: ${self.num_flights}\"\n",
    "\n",
    "    def get_keys(self):\n",
    "        return {'origin': self.origin, 'date': self.date}"
   ]
  },
  {
   "cell_type": "code",
   "execution_count": 13,
   "id": "bec3b91a-f743-41e6-aed2-fedaed18b65f",
   "metadata": {},
   "outputs": [
    {
     "data": {
      "text/plain": [
       "[{'ORIGIN': 'ABE',\n",
       "  'FL_DATE': '2009-01-01',\n",
       "  'NUM_FLIGHTS': 12,\n",
       "  'DEP_DELAY': -2.9166666666666665,\n",
       "  'DEL_SCALED': -0.8168563638859062,\n",
       "  'OUTLIER': 0},\n",
       " {'ORIGIN': 'ABE',\n",
       "  'FL_DATE': '2009-01-02',\n",
       "  'NUM_FLIGHTS': 14,\n",
       "  'DEP_DELAY': 2.357142857142857,\n",
       "  'DEL_SCALED': -0.3857540353754194,\n",
       "  'OUTLIER': 0},\n",
       " {'ORIGIN': 'ABE',\n",
       "  'FL_DATE': '2009-01-03',\n",
       "  'NUM_FLIGHTS': 9,\n",
       "  'DEP_DELAY': 25.5,\n",
       "  'DEL_SCALED': 1.5060358667112315,\n",
       "  'OUTLIER': 0},\n",
       " {'ORIGIN': 'ABE',\n",
       "  'FL_DATE': '2009-01-04',\n",
       "  'NUM_FLIGHTS': 11,\n",
       "  'DEP_DELAY': 9.636363636363637,\n",
       "  'DEL_SCALED': 0.2092786470710272,\n",
       "  'OUTLIER': 0},\n",
       " {'ORIGIN': 'ABE',\n",
       "  'FL_DATE': '2009-01-05',\n",
       "  'NUM_FLIGHTS': 13,\n",
       "  'DEP_DELAY': 4.153846153846154,\n",
       "  'DEL_SCALED': -0.23888430650971784,\n",
       "  'OUTLIER': 0}]"
      ]
     },
     "execution_count": 13,
     "metadata": {},
     "output_type": "execute_result"
    }
   ],
   "source": [
    "df_rescaled.reset_index().head().to_dict('records')"
   ]
  },
  {
   "cell_type": "code",
   "execution_count": 11,
   "id": "f1b0dacf-7abd-487c-b6d1-069aa3b5c913",
   "metadata": {
    "collapsed": true,
    "jupyter": {
     "outputs_hidden": true
    },
    "tags": []
   },
   "outputs": [
    {
     "data": {
      "text/plain": [
       "[{'NUM_FLIGHTS': 12,\n",
       "  'DEP_DELAY': -2.9166666666666665,\n",
       "  'DEL_SCALED': -0.8168563638859062,\n",
       "  'OUTLIER': 0},\n",
       " {'NUM_FLIGHTS': 14,\n",
       "  'DEP_DELAY': 2.357142857142857,\n",
       "  'DEL_SCALED': -0.3857540353754194,\n",
       "  'OUTLIER': 0},\n",
       " {'NUM_FLIGHTS': 9,\n",
       "  'DEP_DELAY': 25.5,\n",
       "  'DEL_SCALED': 1.5060358667112315,\n",
       "  'OUTLIER': 0},\n",
       " {'NUM_FLIGHTS': 11,\n",
       "  'DEP_DELAY': 9.636363636363637,\n",
       "  'DEL_SCALED': 0.2092786470710272,\n",
       "  'OUTLIER': 0},\n",
       " {'NUM_FLIGHTS': 13,\n",
       "  'DEP_DELAY': 4.153846153846154,\n",
       "  'DEL_SCALED': -0.23888430650971784,\n",
       "  'OUTLIER': 0}]"
      ]
     },
     "execution_count": 11,
     "metadata": {},
     "output_type": "execute_result"
    }
   ],
   "source": [
    "[item for item in df_rescaled.head().to_dict('records')]"
   ]
  },
  {
   "cell_type": "code",
   "execution_count": 15,
   "id": "bb166ba4-a302-4381-bfff-0c4d9b0cd9c0",
   "metadata": {},
   "outputs": [
    {
     "data": {
      "text/plain": [
       "[<DepDelay(origin='ABE', date='2009-01-01', ...)>,\n",
       " <DepDelay(origin='ABE', date='2009-01-02', ...)>,\n",
       " <DepDelay(origin='ABE', date='2009-01-03', ...)>,\n",
       " <DepDelay(origin='ABE', date='2009-01-04', ...)>,\n",
       " <DepDelay(origin='ABE', date='2009-01-05', ...)>]"
      ]
     },
     "execution_count": 15,
     "metadata": {},
     "output_type": "execute_result"
    }
   ],
   "source": [
    "# origin, date, num_flights, dep_delay, del_scaled, outlier\n",
    "[DepDelay(origin=item['ORIGIN'], date=item['FL_DATE'], num_flights= item['NUM_FLIGHTS'], dep_delay= item['DEP_DELAY'], del_scaled= item['DEL_SCALED'], outlier= item['OUTLIER']) \n",
    "                for item in df_rescaled.reset_index().head().to_dict('records')]"
   ]
  },
  {
   "cell_type": "code",
   "execution_count": 21,
   "id": "22fe6969-7346-4fe1-bf8b-e763606776cb",
   "metadata": {},
   "outputs": [
    {
     "name": "stdout",
     "output_type": "stream",
     "text": [
      "True\n"
     ]
    }
   ],
   "source": [
    "if not (df_rescaled.empty):\n",
    "    print(True)"
   ]
  },
  {
   "cell_type": "code",
   "execution_count": 22,
   "id": "59acd49a-7091-483e-9e1a-22d98b5441c5",
   "metadata": {},
   "outputs": [],
   "source": [
    "df = pd.DataFrame(columns = ['a', 'b'])\n",
    "\n",
    "if not (df.empty):\n",
    "    print(True)"
   ]
  },
  {
   "cell_type": "code",
   "execution_count": null,
   "id": "78e88975-3ab4-48f9-92af-fccdb7c61c39",
   "metadata": {},
   "outputs": [],
   "source": []
  }
 ],
 "metadata": {
  "kernelspec": {
   "display_name": "Python 3 (ipykernel)",
   "language": "python",
   "name": "python3"
  },
  "language_info": {
   "codemirror_mode": {
    "name": "ipython",
    "version": 3
   },
   "file_extension": ".py",
   "mimetype": "text/x-python",
   "name": "python",
   "nbconvert_exporter": "python",
   "pygments_lexer": "ipython3",
   "version": "3.9.7"
  }
 },
 "nbformat": 4,
 "nbformat_minor": 5
}
