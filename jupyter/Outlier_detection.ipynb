{
 "cells": [
  {
   "cell_type": "code",
   "execution_count": 1,
   "id": "823fb740-210c-4243-9cb4-9d4b4e6ae997",
   "metadata": {},
   "outputs": [],
   "source": [
    "import pandas as pd\n",
    "from sklearn.preprocessing import StandardScaler\n",
    "import typing"
   ]
  },
  {
   "cell_type": "code",
   "execution_count": 20,
   "id": "e2e5ae71-1102-4a3e-ad84-95caf8fecdd1",
   "metadata": {},
   "outputs": [],
   "source": [
    "anio = 2018"
   ]
  },
  {
   "cell_type": "code",
   "execution_count": 21,
   "id": "54af934b-b300-41a0-afe2-7e380bf63651",
   "metadata": {},
   "outputs": [],
   "source": [
    "data = pd.read_csv(f'/home/jovyan/work/data/raw/{anio}.csv')"
   ]
  },
  {
   "cell_type": "code",
   "execution_count": 22,
   "id": "9f90d3ff-3c61-4920-9278-02aaf7405295",
   "metadata": {},
   "outputs": [],
   "source": [
    "# This wrapper will apply any sklearn transform you pass into it to a group.\n",
    "class SklearnWrapper:\n",
    "    def __init__(self, transformation: typing.Callable):\n",
    "        self.transformation = transformation\n",
    "\n",
    "    def __call__(self, df):\n",
    "        transformed = self.transformation.fit_transform(df.values)\n",
    "        return pd.DataFrame(transformed, columns=df.columns, index=df.index)"
   ]
  },
  {
   "cell_type": "code",
   "execution_count": 23,
   "id": "a2469e6e-b122-4514-8248-f472e0ccc04a",
   "metadata": {},
   "outputs": [],
   "source": [
    "grouped = data.groupby(['ORIGIN','FL_DATE']).agg({'DEP_DELAY': 'mean'})\n",
    "\n",
    "df_rescaled = (\n",
    "    grouped.groupby(\"ORIGIN\")\n",
    "    .apply(SklearnWrapper(StandardScaler()))\n",
    "    .rename(columns = {'DEP_DELAY': 'SCALED'})\n",
    ")\n",
    "df_rescaled = (\n",
    "    grouped.join(df_rescaled)\n",
    "    .assign(OUTLIER=(abs(df_rescaled.SCALED)>=3).astype(int))\n",
    ")"
   ]
  },
  {
   "cell_type": "code",
   "execution_count": 24,
   "id": "e5779fe4-07e3-47ad-9b3c-b6ac4b3e9486",
   "metadata": {},
   "outputs": [
    {
     "data": {
      "text/html": [
       "<div>\n",
       "<style scoped>\n",
       "    .dataframe tbody tr th:only-of-type {\n",
       "        vertical-align: middle;\n",
       "    }\n",
       "\n",
       "    .dataframe tbody tr th {\n",
       "        vertical-align: top;\n",
       "    }\n",
       "\n",
       "    .dataframe thead th {\n",
       "        text-align: right;\n",
       "    }\n",
       "</style>\n",
       "<table border=\"1\" class=\"dataframe\">\n",
       "  <thead>\n",
       "    <tr style=\"text-align: right;\">\n",
       "      <th></th>\n",
       "      <th></th>\n",
       "      <th>DEP_DELAY</th>\n",
       "      <th>SCALED</th>\n",
       "      <th>OUTLIER</th>\n",
       "    </tr>\n",
       "    <tr>\n",
       "      <th>ORIGIN</th>\n",
       "      <th>FL_DATE</th>\n",
       "      <th></th>\n",
       "      <th></th>\n",
       "      <th></th>\n",
       "    </tr>\n",
       "  </thead>\n",
       "  <tbody>\n",
       "    <tr>\n",
       "      <th rowspan=\"5\" valign=\"top\">ABE</th>\n",
       "      <th>2018-01-01</th>\n",
       "      <td>7.833333</td>\n",
       "      <td>-0.203821</td>\n",
       "      <td>0</td>\n",
       "    </tr>\n",
       "    <tr>\n",
       "      <th>2018-01-02</th>\n",
       "      <td>77.375000</td>\n",
       "      <td>2.849058</td>\n",
       "      <td>0</td>\n",
       "    </tr>\n",
       "    <tr>\n",
       "      <th>2018-01-03</th>\n",
       "      <td>51.333333</td>\n",
       "      <td>1.705829</td>\n",
       "      <td>0</td>\n",
       "    </tr>\n",
       "    <tr>\n",
       "      <th>2018-01-04</th>\n",
       "      <td>30.125000</td>\n",
       "      <td>0.774783</td>\n",
       "      <td>0</td>\n",
       "    </tr>\n",
       "    <tr>\n",
       "      <th>2018-01-05</th>\n",
       "      <td>17.375000</td>\n",
       "      <td>0.215058</td>\n",
       "      <td>0</td>\n",
       "    </tr>\n",
       "  </tbody>\n",
       "</table>\n",
       "</div>"
      ],
      "text/plain": [
       "                   DEP_DELAY    SCALED  OUTLIER\n",
       "ORIGIN FL_DATE                                 \n",
       "ABE    2018-01-01   7.833333 -0.203821        0\n",
       "       2018-01-02  77.375000  2.849058        0\n",
       "       2018-01-03  51.333333  1.705829        0\n",
       "       2018-01-04  30.125000  0.774783        0\n",
       "       2018-01-05  17.375000  0.215058        0"
      ]
     },
     "execution_count": 24,
     "metadata": {},
     "output_type": "execute_result"
    }
   ],
   "source": [
    "df_rescaled.head()"
   ]
  },
  {
   "cell_type": "code",
   "execution_count": 25,
   "id": "bdfcd165-4d13-440d-8d48-0601b7dbf022",
   "metadata": {},
   "outputs": [
    {
     "data": {
      "text/plain": [
       "2315"
      ]
     },
     "execution_count": 25,
     "metadata": {},
     "output_type": "execute_result"
    }
   ],
   "source": [
    "df_rescaled.OUTLIER.sum()"
   ]
  },
  {
   "cell_type": "code",
   "execution_count": null,
   "id": "0955044e-e24e-4754-a5a9-c39455d93061",
   "metadata": {},
   "outputs": [],
   "source": []
  }
 ],
 "metadata": {
  "kernelspec": {
   "display_name": "Python 3 (ipykernel)",
   "language": "python",
   "name": "python3"
  },
  "language_info": {
   "codemirror_mode": {
    "name": "ipython",
    "version": 3
   },
   "file_extension": ".py",
   "mimetype": "text/x-python",
   "name": "python",
   "nbconvert_exporter": "python",
   "pygments_lexer": "ipython3",
   "version": "3.9.7"
  }
 },
 "nbformat": 4,
 "nbformat_minor": 5
}
